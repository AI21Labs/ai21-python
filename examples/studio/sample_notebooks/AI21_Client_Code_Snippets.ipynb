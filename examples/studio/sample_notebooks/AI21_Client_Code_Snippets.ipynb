{
 "cells": [
  {
   "cell_type": "markdown",
   "id": "44dbbad8-1184-4496-8437-d4512a0f9ec9",
   "metadata": {},
   "source": [
    "# AI21 Client Walkthrough and Code Snippets\n",
    "This notebook walks through the basics of how to use the AI21 Client (v2.0.1); giving a few code snippets you can use in your own work."
   ]
  },
  {
   "cell_type": "markdown",
   "id": "3ba82a5c-8017-44cb-a8dc-32b21541ff9b",
   "metadata": {},
   "source": [
    "## Instantiate the AI21 client \n",
    "This will be the first step that you use when using AI21 models."
   ]
  },
  {
   "cell_type": "code",
   "execution_count": 2,
   "id": "0464507f-3246-4c97-9d38-35ec1f533986",
   "metadata": {},
   "outputs": [],
   "source": [
    "from ai21 import AI21Client\n",
    "\n",
    "client = AI21Client() #uses the environment variable \n",
    "#If you wish to pass your api key as a string, you can use the following code\n",
    "#client = AI21Client(api_key='my_api_key')"
   ]
  },
  {
   "cell_type": "markdown",
   "id": "e2f5ac5c-ee9d-475a-849c-4875ab36e469",
   "metadata": {},
   "source": [
    "## Instansiate the AI21 client with supressing most output\n",
    "The AI21 client will produce many logs the standard output. If you wish to supress these, you can use:\n",
    "\n"
   ]
  },
  {
   "cell_type": "code",
   "execution_count": 3,
   "id": "6236309f-98e3-494c-9816-a9b60600cd63",
   "metadata": {},
   "outputs": [],
   "source": [
    "import json\n",
    "import os\n",
    "os.environ[\"AI21_LOG_LEVEL\"] = \"DEBUG\"\n",
    "\n",
    "from ai21 import AI21Client\n",
    "client = AI21Client()"
   ]
  },
  {
   "cell_type": "markdown",
   "id": "f053c53a-67b5-4096-8854-9522b4889713",
   "metadata": {},
   "source": [
    "## Call the Summarize Task Specific Model\n",
    "\n",
    "AI21 Task specific models (TSM) are foundaiton models that perform specific tasks well. In this case, we will call the AI21 Summarize TSM via the AI21 client."
   ]
  },
  {
   "cell_type": "code",
   "execution_count": 12,
   "id": "7c9eeb2c-d670-4ec8-b9b0-531728e203e1",
   "metadata": {},
   "outputs": [
    {
     "name": "stdout",
     "output_type": "stream",
     "text": [
      "The summarize Task Specific model is designed to read text and create a short form summary.\n"
     ]
    }
   ],
   "source": [
    "article='''\n",
    "The summarize Task Specific model is designed to read in the text; and create a summary\n",
    "of it that is high accuracy with low hallucination rates. The summary will be a short form summary; and is\n",
    "designed to be clear and consice.\n",
    "'''\n",
    "response = client.summarize.create(\n",
    "  source=article,\n",
    "  source_type=\"TEXT\" \n",
    ")\n",
    "\n",
    "summary=response.summary\n",
    "print(summary)"
   ]
  },
  {
   "cell_type": "markdown",
   "id": "140180f4-0ce8-4513-b9f9-785b03df3ee3",
   "metadata": {},
   "source": [
    "## Call Jurassic 2\n",
    "You can also call Jurassic-2 from the AI21 client"
   ]
  },
  {
   "cell_type": "code",
   "execution_count": 16,
   "id": "a30f35a5-dcc3-4083-a4bb-583ea0a29215",
   "metadata": {
    "scrolled": true
   },
   "outputs": [
    {
     "name": "stdout",
     "output_type": "stream",
     "text": [
      "\n",
      "The financial industry encompasses a wide range of businesses including banks, insurance companies, investment houses, and credit unions. These institutions play a crucial role in the global economy, as they are responsible for channeling funds between borrowers and savers, managing financial risk, and providing financial services to individuals, businesses, and governments. The financial industry is subject to a variety of laws and regulations aimed at ensuring the stability of the financial system and the protection of consumers and investors. In recent years, the industry has come under scrutiny due to its role in the financial crisis of 2008 and concerns about excessive risk-taking and unethical behavior. As a result, there is a growing focus on regulatory reforms and increased oversight of financial institutions to prevent similar crises in the future.\n"
     ]
    }
   ],
   "source": [
    "\n",
    "prompt=\"write 1 paragraph about the financial industry\"\n",
    "response = client.completion.create(\n",
    "    model=\"j2-ultra\",  # You can choose from various models like j2-light, j2-mid, j2-ultra\n",
    "    prompt=prompt,\n",
    "    max_tokens=300,\n",
    "    temperature=0.7\n",
    ")\n",
    "\n",
    "#get the actual text from the response\n",
    "generated_text = response.completions[0].data.text\n",
    "print(generated_text)"
   ]
  },
  {
   "cell_type": "code",
   "execution_count": null,
   "id": "8e450301-c02d-41c2-81b1-67ae3fe7f16d",
   "metadata": {},
   "outputs": [],
   "source": []
  }
 ],
 "metadata": {
  "kernelspec": {
   "display_name": "Python 3 (ipykernel)",
   "language": "python",
   "name": "python3"
  },
  "language_info": {
   "codemirror_mode": {
    "name": "ipython",
    "version": 3
   },
   "file_extension": ".py",
   "mimetype": "text/x-python",
   "name": "python",
   "nbconvert_exporter": "python",
   "pygments_lexer": "ipython3",
   "version": "3.9.6"
  }
 },
 "nbformat": 4,
 "nbformat_minor": 5
}
