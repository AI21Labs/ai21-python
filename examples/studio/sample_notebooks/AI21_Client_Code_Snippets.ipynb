{
 "cells": [
  {
   "cell_type": "markdown",
   "id": "44dbbad8-1184-4496-8437-d4512a0f9ec9",
   "metadata": {},
   "source": [
    "# AI21 Client Walkthrough and Code Snippets\n",
    "This notebook walks through the basics of how to use the AI21 Client (v2.0.1); giving a few code snippets you can use in your own work."
   ]
  },
  {
   "cell_type": "markdown",
   "id": "3ba82a5c-8017-44cb-a8dc-32b21541ff9b",
   "metadata": {},
   "source": [
    "## Instantiate the AI21 client \n",
    "This will be the first step that you use when using AI21 models."
   ]
  },
  {
   "cell_type": "code",
   "execution_count": 1,
   "id": "0464507f-3246-4c97-9d38-35ec1f533986",
   "metadata": {},
   "outputs": [
    {
     "name": "stderr",
     "output_type": "stream",
     "text": [
      "/Users/joshuabroyde/Library/Python/3.9/lib/python/site-packages/urllib3/__init__.py:35: NotOpenSSLWarning: urllib3 v2 only supports OpenSSL 1.1.1+, currently the 'ssl' module is compiled with 'LibreSSL 2.8.3'. See: https://github.com/urllib3/urllib3/issues/3020\n",
      "  warnings.warn(\n"
     ]
    }
   ],
   "source": [
    "from ai21 import AI21Client\n",
    "\n",
    "client = AI21Client() #uses the environment variable \n",
    "#If you wish to pass your api key as a string, you can use the following code\n",
    "#client = AI21Client(api_key='my_api_key')"
   ]
  },
  {
   "cell_type": "markdown",
   "id": "e2f5ac5c-ee9d-475a-849c-4875ab36e469",
   "metadata": {},
   "source": [
    "## Instansiate the AI21 client with supressing most output\n",
    "The AI21 client will produce many logs the standard output. If you wish to supress these, you can use:\n",
    "\n"
   ]
  },
  {
   "cell_type": "code",
   "execution_count": 3,
   "id": "6236309f-98e3-494c-9816-a9b60600cd63",
   "metadata": {},
   "outputs": [],
   "source": [
    "import json\n",
    "import os\n",
    "os.environ[\"AI21_LOG_LEVEL\"] = \"DEBUG\"\n",
    "\n",
    "from ai21 import AI21Client\n",
    "client = AI21Client()"
   ]
  },
  {
   "cell_type": "markdown",
   "id": "f053c53a-67b5-4096-8854-9522b4889713",
   "metadata": {},
   "source": [
    "## Call the Summarize Task Specific Model\n",
    "\n",
    "AI21 Task specific models (TSM) are foundaiton models that perform specific tasks well. In this case, we will call the AI21 Summarize TSM via the AI21 client."
   ]
  },
  {
   "cell_type": "code",
   "execution_count": 12,
   "id": "7c9eeb2c-d670-4ec8-b9b0-531728e203e1",
   "metadata": {},
   "outputs": [
    {
     "name": "stdout",
     "output_type": "stream",
     "text": [
      "The summarize Task Specific model is designed to read text and create a short form summary.\n"
     ]
    }
   ],
   "source": [
    "article='''\n",
    "The summarize Task Specific model is designed to read in the text; and create a summary\n",
    "of it that is high accuracy with low hallucination rates. The summary will be a short form summary; and is\n",
    "designed to be clear and consice.\n",
    "'''\n",
    "response = client.summarize.create(\n",
    "  source=article,\n",
    "  source_type=\"TEXT\" \n",
    ")\n",
    "\n",
    "summary=response.summary\n",
    "print(summary)"
   ]
  },
  {
   "cell_type": "markdown",
   "id": "140180f4-0ce8-4513-b9f9-785b03df3ee3",
   "metadata": {},
   "source": [
    "## Call Jurassic 2\n",
    "You can also call Jurassic-2 from the AI21 client"
   ]
  },
  {
   "cell_type": "code",
   "execution_count": 16,
   "id": "a30f35a5-dcc3-4083-a4bb-583ea0a29215",
   "metadata": {
    "scrolled": true
   },
   "outputs": [
    {
     "name": "stdout",
     "output_type": "stream",
     "text": [
      "\n",
      "The financial industry encompasses a wide range of businesses including banks, insurance companies, investment houses, and credit unions. These institutions play a crucial role in the global economy, as they are responsible for channeling funds between borrowers and savers, managing financial risk, and providing financial services to individuals, businesses, and governments. The financial industry is subject to a variety of laws and regulations aimed at ensuring the stability of the financial system and the protection of consumers and investors. In recent years, the industry has come under scrutiny due to its role in the financial crisis of 2008 and concerns about excessive risk-taking and unethical behavior. As a result, there is a growing focus on regulatory reforms and increased oversight of financial institutions to prevent similar crises in the future.\n"
     ]
    }
   ],
   "source": [
    "\n",
    "prompt=\"write 1 paragraph about the financial industry\"\n",
    "response = client.completion.create(\n",
    "    model=\"j2-ultra\",  # You can choose from various models like j2-light, j2-mid, j2-ultra\n",
    "    prompt=prompt,\n",
    "    max_tokens=300,\n",
    "    temperature=0.7\n",
    ")\n",
    "\n",
    "#get the actual text from the response\n",
    "generated_text = response.completions[0].data.text\n",
    "print(generated_text)"
   ]
  },
  {
   "cell_type": "markdown",
   "id": "2a1df79f-e1f7-490e-9c6f-4c6237f7a3f8",
   "metadata": {},
   "source": [
    "## Call Contextual Answers"
   ]
  },
  {
   "cell_type": "code",
   "execution_count": 9,
   "id": "59b4bfee-a5fb-4ace-82f1-2c006f3a6407",
   "metadata": {},
   "outputs": [
    {
     "name": "stdout",
     "output_type": "stream",
     "text": [
      "The company's quarterly earnings for last year were quite impressive, with a net income of over $2 billion and a profit increase of nearly 20% from the previous year.\n"
     ]
    }
   ],
   "source": [
    "article='''\n",
    "AnyCompany is a multinational corporation that offers a wide range of products and services. The company's quarterly\n",
    "earnings for last year were quite impressive, with a net income of over $2 billion and a profit increase of nearly 20% \n",
    "from the previous year. Despite the challenges posed by the pandemic, AnyCompany managed to maintain a strong financial \n",
    "performance, thanks to the efforts of its dedicated employees and management team.\n",
    "'''\n",
    "response = client.answer.create(\n",
    "  context=article,\n",
    "  question=\"What were the quarterly earnings?\" \n",
    ")\n",
    "\n",
    "answer=response.answer\n",
    "print(answer)"
   ]
  },
  {
   "cell_type": "markdown",
   "id": "1afca8b4-ce9e-43a7-9e36-c3d3c26fb59c",
   "metadata": {},
   "source": [
    "## Create a contextual answers endpoint in Amazon SageMaker\n"
   ]
  },
  {
   "cell_type": "code",
   "execution_count": null,
   "id": "5b2e6274-0ddf-4354-8105-82d0787864ad",
   "metadata": {},
   "outputs": [],
   "source": [
    "from sagemaker import ModelPackage\n",
    "from sagemaker import get_execution_role\n",
    "import sagemaker as sage\n",
    "import boto3\n",
    "from ai21 import AI21SageMakerClient\n",
    "import ai21\n",
    "model_package_arn = ai21.SageMaker.get_model_package_arn(model_name=\"contextual-answers\", region=region)\n",
    "role = get_execution_role()\n",
    "sagemaker_session = sage.Session()\n",
    "endpoint_name = \"contextual-answers\"\n",
    "\n",
    "content_type = \"application/json\"\n",
    "\n",
    "real_time_inference_instance_type = (\n",
    "#    \"ml.p4d.24xlarge\"    # Recommended instance\n",
    "#     \"ml.g5.48xlarge\"    # Cheaper and faster - recommended for relatively short inputs/outputs\n",
    "#      \"ml.g5.12xlarge\"    # Even Cheaper and faster - up to 10K characters\n",
    "      \"ml.g4dn.12xlarge\"  #cheapest instance  \n",
    ")\n",
    "\n",
    "# create a deployable model from the model package.\n",
    "model = ModelPackage(\n",
    "    role=role, model_package_arn=model_package_arn, sagemaker_session=sagemaker_session\n",
    ")\n",
    "\n",
    "# Deploy the model\n",
    "predictor = model.deploy(\n",
    "    initial_instance_count=1,\n",
    "    instance_type=real_time_inference_instance_type,\n",
    "    endpoint_name=endpoint_name, \n",
    "    model_data_download_timeout=3600,\n",
    "    container_startup_health_check_timeout=600\n",
    ")"
   ]
  },
  {
   "cell_type": "markdown",
   "id": "a2844d10-ab8e-4941-85be-499c7c8cff2c",
   "metadata": {},
   "source": [
    "## Call Contextual Answers from Amazon SageMaker\n",
    "call contextual answers answers from an existing endpoint"
   ]
  },
  {
   "cell_type": "code",
   "execution_count": 16,
   "id": "376b1f5f-2201-477b-b8fd-faab91fcb939",
   "metadata": {},
   "outputs": [
    {
     "name": "stdout",
     "output_type": "stream",
     "text": [
      "AnswerResponse(id='3dc1bd68-765d-4b75-ae4e-fbe887a38ddd', answer_in_context=True, answer=\"The company's quarterly earnings for last year were quite impressive, with a net income of over $2 billion and a profit increase of nearly 20% from the previous year.\")\n"
     ]
    }
   ],
   "source": [
    "from ai21 import AI21SageMakerClient\n",
    "import boto3\n",
    "boto_session = boto3.Session(region_name=\"us-east-1\")\n",
    "\n",
    "article='''\n",
    "AnyCompany is a multinational corporation that offers a wide range of products and services. The company's quarterly\n",
    "earnings for last year were quite impressive, with a net income of over $2 billion and a profit increase of nearly 20% \n",
    "from the previous year. Despite the challenges posed by the pandemic, AnyCompany managed to maintain a strong financial \n",
    "performance, thanks to the efforts of its dedicated employees and management team.\n",
    "'''\n",
    "client = AI21SageMakerClient(\n",
    "    endpoint_name=\"Endpoint-AI21-Contextual-Answers-1\",\n",
    ")\n",
    "response = client.answer.create(\n",
    "  session=boto_session,\n",
    "  context=article,\n",
    "  question=\"What were the quarterly earnings?\",\n",
    ")\n",
    "\n",
    "print(response)\n",
    "#answer=response.answer\n",
    "#print(answer)"
   ]
  },
  {
   "cell_type": "code",
   "execution_count": null,
   "id": "311560ad-5e70-4ed4-a27e-bf995a5cb3ac",
   "metadata": {},
   "outputs": [],
   "source": []
  }
 ],
 "metadata": {
  "kernelspec": {
   "display_name": "Python 3 (ipykernel)",
   "language": "python",
   "name": "python3"
  },
  "language_info": {
   "codemirror_mode": {
    "name": "ipython",
    "version": 3
   },
   "file_extension": ".py",
   "mimetype": "text/x-python",
   "name": "python",
   "nbconvert_exporter": "python",
   "pygments_lexer": "ipython3",
   "version": "3.9.6"
  }
 },
 "nbformat": 4,
 "nbformat_minor": 5
}
